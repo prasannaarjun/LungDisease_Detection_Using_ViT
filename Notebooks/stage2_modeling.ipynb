{
 "cells": [
  {
   "cell_type": "code",
   "id": "initial_id",
   "metadata": {
    "collapsed": true,
    "ExecuteTime": {
     "end_time": "2025-04-15T05:32:46.865939Z",
     "start_time": "2025-04-15T05:32:45.628949Z"
    }
   },
   "source": [
    "import torch\n",
    "print(torch.cuda.is_available())   # Should return True\n",
    "print(torch.cuda.get_device_name(0))  # Should show RTX 4060"
   ],
   "outputs": [
    {
     "name": "stdout",
     "output_type": "stream",
     "text": [
      "True\n",
      "NVIDIA GeForce RTX 4060 Laptop GPU\n"
     ]
    }
   ],
   "execution_count": 3
  },
  {
   "metadata": {
    "ExecuteTime": {
     "end_time": "2025-04-15T05:33:10.314109Z",
     "start_time": "2025-04-15T05:33:10.289018Z"
    }
   },
   "cell_type": "code",
   "source": [
    "from torchvision import datasets, transforms\n",
    "from torch.utils.data import DataLoader\n",
    "\n",
    "\n",
    "# Stage 2 - Paths\n",
    "stage2_train_dir = \"../Dataset/stage2/train\"\n",
    "stage2_val_dir = \"../Dataset/stage2/val\"\n",
    "stage2_test_dir = \"../Dataset/stage2/test\"\n",
    "\n",
    "# Transforms (same as stage 1)\n",
    "transform = transforms.Compose([\n",
    "    transforms.Resize((224, 224)),\n",
    "    transforms.ToTensor(),\n",
    "    transforms.Normalize([0.5], [0.5])\n",
    "])\n",
    "\n",
    "# Datasets and loaders\n",
    "train_dataset2 = datasets.ImageFolder(stage2_train_dir, transform=transform)\n",
    "val_dataset2 = datasets.ImageFolder(stage2_val_dir, transform=transform)\n",
    "test_dataset2 = datasets.ImageFolder(stage2_test_dir, transform=transform)\n",
    "\n",
    "train_loader2 = DataLoader(train_dataset2, batch_size=32, shuffle=True)\n",
    "val_loader2 = DataLoader(val_dataset2, batch_size=32)\n",
    "test_loader2 = DataLoader(test_dataset2, batch_size=32)\n",
    "\n",
    "# Class names\n",
    "class_names2 = train_dataset2.classes\n",
    "print(\"Stage 2 Classes:\", class_names2)\n",
    "\n"
   ],
   "id": "be4cf3863c197b78",
   "outputs": [
    {
     "name": "stdout",
     "output_type": "stream",
     "text": [
      "Stage 2 Classes: ['Bacterial Pneumonia', 'Viral Pneumonia']\n"
     ]
    }
   ],
   "execution_count": 6
  },
  {
   "metadata": {
    "ExecuteTime": {
     "end_time": "2025-04-15T05:32:53.276019Z",
     "start_time": "2025-04-15T05:32:51.004994Z"
    }
   },
   "cell_type": "code",
   "source": [
    "from transformers import ViTForImageClassification\n",
    "# Define model\n",
    "model2 = ViTForImageClassification.from_pretrained(\n",
    "    \"google/vit-base-patch16-224-in21k\",\n",
    "    num_labels=2  # Binary classification\n",
    ")\n",
    "\n",
    "device = torch.device(\"cuda\" if torch.cuda.is_available() else \"cpu\")\n",
    "print(device)\n",
    "\n",
    "model2.to(device)\n"
   ],
   "id": "ba1bb355e32d04ec",
   "outputs": [
    {
     "name": "stderr",
     "output_type": "stream",
     "text": [
      "Some weights of ViTForImageClassification were not initialized from the model checkpoint at google/vit-base-patch16-224-in21k and are newly initialized: ['classifier.bias', 'classifier.weight']\n",
      "You should probably TRAIN this model on a down-stream task to be able to use it for predictions and inference.\n"
     ]
    },
    {
     "name": "stdout",
     "output_type": "stream",
     "text": [
      "cuda\n"
     ]
    },
    {
     "data": {
      "text/plain": [
       "ViTForImageClassification(\n",
       "  (vit): ViTModel(\n",
       "    (embeddings): ViTEmbeddings(\n",
       "      (patch_embeddings): ViTPatchEmbeddings(\n",
       "        (projection): Conv2d(3, 768, kernel_size=(16, 16), stride=(16, 16))\n",
       "      )\n",
       "      (dropout): Dropout(p=0.0, inplace=False)\n",
       "    )\n",
       "    (encoder): ViTEncoder(\n",
       "      (layer): ModuleList(\n",
       "        (0-11): 12 x ViTLayer(\n",
       "          (attention): ViTAttention(\n",
       "            (attention): ViTSelfAttention(\n",
       "              (query): Linear(in_features=768, out_features=768, bias=True)\n",
       "              (key): Linear(in_features=768, out_features=768, bias=True)\n",
       "              (value): Linear(in_features=768, out_features=768, bias=True)\n",
       "            )\n",
       "            (output): ViTSelfOutput(\n",
       "              (dense): Linear(in_features=768, out_features=768, bias=True)\n",
       "              (dropout): Dropout(p=0.0, inplace=False)\n",
       "            )\n",
       "          )\n",
       "          (intermediate): ViTIntermediate(\n",
       "            (dense): Linear(in_features=768, out_features=3072, bias=True)\n",
       "            (intermediate_act_fn): GELUActivation()\n",
       "          )\n",
       "          (output): ViTOutput(\n",
       "            (dense): Linear(in_features=3072, out_features=768, bias=True)\n",
       "            (dropout): Dropout(p=0.0, inplace=False)\n",
       "          )\n",
       "          (layernorm_before): LayerNorm((768,), eps=1e-12, elementwise_affine=True)\n",
       "          (layernorm_after): LayerNorm((768,), eps=1e-12, elementwise_affine=True)\n",
       "        )\n",
       "      )\n",
       "    )\n",
       "    (layernorm): LayerNorm((768,), eps=1e-12, elementwise_affine=True)\n",
       "  )\n",
       "  (classifier): Linear(in_features=768, out_features=2, bias=True)\n",
       ")"
      ]
     },
     "execution_count": 4,
     "metadata": {},
     "output_type": "execute_result"
    }
   ],
   "execution_count": 4
  },
  {
   "metadata": {
    "ExecuteTime": {
     "end_time": "2025-04-14T14:05:23.187021Z",
     "start_time": "2025-04-14T13:54:50.456588Z"
    }
   },
   "cell_type": "code",
   "source": [
    "from tqdm import tqdm\n",
    "# Optimizer and loss\n",
    "optimizer2 = torch.optim.Adam(model2.parameters(), lr=2e-5)\n",
    "criterion2 = torch.nn.CrossEntropyLoss()\n",
    "\n",
    "# Early stopping params\n",
    "best_val_loss2 = float('inf')\n",
    "patience = 3\n",
    "trigger_times = 0\n",
    "\n",
    "# Training loop\n",
    "for epoch in range(1, 16):\n",
    "    model2.train()\n",
    "    train_loss = 0.0\n",
    "\n",
    "    loop = tqdm(train_loader2, desc=f\"Epoch {epoch}/15\")\n",
    "    for images, labels in loop:\n",
    "        images, labels = images.to(device), labels.to(device)\n",
    "\n",
    "        optimizer2.zero_grad()\n",
    "        outputs = model2(images).logits\n",
    "        loss = criterion2(outputs, labels)\n",
    "        loss.backward()\n",
    "        optimizer2.step()\n",
    "\n",
    "        train_loss += loss.item()\n",
    "        loop.set_postfix(loss=loss.item())\n",
    "\n",
    "    avg_train_loss = train_loss / len(train_loader2)\n",
    "\n",
    "    # Validation\n",
    "    model2.eval()\n",
    "    val_loss = 0.0\n",
    "    correct, total = 0, 0\n",
    "\n",
    "    with torch.no_grad():\n",
    "        for images, labels in val_loader2:\n",
    "            images, labels = images.to(device), labels.to(device)\n",
    "            outputs = model2(images).logits\n",
    "            loss = criterion2(outputs, labels)\n",
    "            val_loss += loss.item()\n",
    "\n",
    "            _, preds = torch.max(outputs, 1)\n",
    "            correct += (preds == labels).sum().item()\n",
    "            total += labels.size(0)\n",
    "\n",
    "    avg_val_loss = val_loss / len(val_loader2)\n",
    "    val_accuracy = 100 * correct / total\n",
    "\n",
    "    print(f\"\\nEpoch {epoch} finished. Avg Train Loss: {avg_train_loss:.4f}\")\n",
    "    print(f\"Validation Loss: {avg_val_loss:.4f}, Accuracy: {val_accuracy:.2f}%\")\n",
    "\n",
    "    # Check for improvement\n",
    "    if avg_val_loss < best_val_loss2:\n",
    "        best_val_loss2 = avg_val_loss\n",
    "        torch.save(model2.state_dict(), \"../Model/best_model_stage2.pth\")\n",
    "        print(f\" Best model saved at epoch {epoch}.\")\n",
    "        trigger_times = 0\n",
    "    else:\n",
    "        trigger_times += 1\n",
    "        if trigger_times >= patience:\n",
    "            print(f\" Early stopping triggered after {epoch} epochs.\")\n",
    "            break\n"
   ],
   "id": "68c68ce787282099",
   "outputs": [
    {
     "name": "stderr",
     "output_type": "stream",
     "text": [
      "Epoch 1/15: 100%|██████████| 76/76 [01:53<00:00,  1.49s/it, loss=0.691]\n"
     ]
    },
    {
     "name": "stdout",
     "output_type": "stream",
     "text": [
      "\n",
      "Epoch 1 finished. Avg Train Loss: 0.5870\n",
      "Validation Loss: 0.5308, Accuracy: 73.07%\n",
      "✅ Best model saved at epoch 1.\n"
     ]
    },
    {
     "name": "stderr",
     "output_type": "stream",
     "text": [
      "Epoch 2/15: 100%|██████████| 76/76 [01:23<00:00,  1.10s/it, loss=0.577]\n"
     ]
    },
    {
     "name": "stdout",
     "output_type": "stream",
     "text": [
      "\n",
      "Epoch 2 finished. Avg Train Loss: 0.4674\n",
      "Validation Loss: 0.4730, Accuracy: 78.55%\n",
      "✅ Best model saved at epoch 2.\n"
     ]
    },
    {
     "name": "stderr",
     "output_type": "stream",
     "text": [
      "Epoch 3/15: 100%|██████████| 76/76 [01:23<00:00,  1.10s/it, loss=0.568]\n"
     ]
    },
    {
     "name": "stdout",
     "output_type": "stream",
     "text": [
      "\n",
      "Epoch 3 finished. Avg Train Loss: 0.3515\n",
      "Validation Loss: 0.4376, Accuracy: 80.92%\n",
      "✅ Best model saved at epoch 3.\n"
     ]
    },
    {
     "name": "stderr",
     "output_type": "stream",
     "text": [
      "Epoch 4/15: 100%|██████████| 76/76 [01:05<00:00,  1.16it/s, loss=0.0834]\n"
     ]
    },
    {
     "name": "stdout",
     "output_type": "stream",
     "text": [
      "\n",
      "Epoch 4 finished. Avg Train Loss: 0.2535\n",
      "Validation Loss: 0.4766, Accuracy: 78.80%\n"
     ]
    },
    {
     "name": "stderr",
     "output_type": "stream",
     "text": [
      "Epoch 5/15: 100%|██████████| 76/76 [01:28<00:00,  1.17s/it, loss=0.0433]\n"
     ]
    },
    {
     "name": "stdout",
     "output_type": "stream",
     "text": [
      "\n",
      "Epoch 5 finished. Avg Train Loss: 0.1672\n",
      "Validation Loss: 0.5560, Accuracy: 79.18%\n"
     ]
    },
    {
     "name": "stderr",
     "output_type": "stream",
     "text": [
      "Epoch 6/15: 100%|██████████| 76/76 [01:21<00:00,  1.07s/it, loss=0.0763]\n"
     ]
    },
    {
     "name": "stdout",
     "output_type": "stream",
     "text": [
      "\n",
      "Epoch 6 finished. Avg Train Loss: 0.1061\n",
      "Validation Loss: 0.6319, Accuracy: 79.05%\n",
      "🛑 Early stopping triggered after 6 epochs.\n"
     ]
    }
   ],
   "execution_count": 8
  },
  {
   "metadata": {
    "ExecuteTime": {
     "end_time": "2025-04-15T05:33:51.429568Z",
     "start_time": "2025-04-15T05:33:22.563928Z"
    }
   },
   "cell_type": "code",
   "source": [
    "# Load best model\n",
    "model2.load_state_dict(torch.load(\"../Model/best_model_stage2.pth\",weights_only=True))\n",
    "model2.eval()\n",
    "\n",
    "correct = 0\n",
    "total = 0\n",
    "\n",
    "with torch.no_grad():\n",
    "    for images, labels in test_loader2:\n",
    "        images, labels = images.to(device), labels.to(device)\n",
    "        outputs = model2(images).logits\n",
    "        _, preds = torch.max(outputs, 1)\n",
    "        correct += (preds == labels).sum().item()\n",
    "        total += labels.size(0)\n",
    "\n",
    "test_accuracy = 100 * correct / total\n",
    "print(f\" Final Test Accuracy (Stage 2): {test_accuracy:.2f}%\")\n"
   ],
   "id": "b421430109993544",
   "outputs": [
    {
     "name": "stdout",
     "output_type": "stream",
     "text": [
      " Final Test Accuracy (Stage 2): 78.91%\n"
     ]
    }
   ],
   "execution_count": 7
  },
  {
   "metadata": {},
   "cell_type": "markdown",
   "source": "HyperParameter Tuning",
   "id": "ccf0b223304b841"
  },
  {
   "metadata": {
    "ExecuteTime": {
     "end_time": "2025-04-14T16:37:31.519016Z",
     "start_time": "2025-04-14T16:37:31.496496Z"
    }
   },
   "cell_type": "code",
   "source": [
    "import torch\n",
    "import torch.nn as nn\n",
    "import torch.optim as optim\n",
    "import optuna\n",
    "from torch.utils.data import DataLoader\n",
    "from sklearn.metrics import accuracy_score\n",
    "from transformers import ViTForImageClassification\n",
    "from optuna.exceptions import TrialPruned\n",
    "import time\n",
    "from tqdm import tqdm\n",
    "\n",
    "def objective(trial):\n",
    "    # Suggest hyperparameters\n",
    "    learning_rate = trial.suggest_float('learning_rate', 1e-5, 1e-3, log=True)\n",
    "    batch_size = trial.suggest_categorical('batch_size', [16, 32, 64])\n",
    "    num_epochs = trial.suggest_int('num_epochs', 5, 15)\n",
    "    hidden_size = trial.suggest_int('hidden_size', 128, 512, step=64)\n",
    "\n",
    "    # Model setup\n",
    "    model = ViTForImageClassification.from_pretrained(\n",
    "        \"google/vit-base-patch16-224-in21k\",\n",
    "        num_labels=2\n",
    "    )\n",
    "    model.classifier = nn.Linear(model.classifier.in_features, 2)\n",
    "    model.to(device)\n",
    "\n",
    "    # Optimizer & loss\n",
    "    optimizer = optim.Adam(model.parameters(), lr=learning_rate)\n",
    "    criterion = nn.CrossEntropyLoss()\n",
    "\n",
    "    # DataLoaders with performance tweak\n",
    "    train_loader = DataLoader(train_dataset2, batch_size=batch_size, shuffle=True, num_workers=4, pin_memory=True)\n",
    "    val_loader = DataLoader(val_dataset2, batch_size=batch_size, num_workers=4, pin_memory=True)\n",
    "\n",
    "    start_time = time.time()\n",
    "\n",
    "    # Training loop\n",
    "    for epoch in range(num_epochs):\n",
    "        model.train()\n",
    "        running_loss = 0\n",
    "        for images, labels in tqdm(train_loader, desc=f\"[Trial {trial.number}] Epoch {epoch+1}/{num_epochs}\", leave=False):\n",
    "            images, labels = images.to(device), labels.to(device)\n",
    "\n",
    "            optimizer.zero_grad()\n",
    "            outputs = model(images)\n",
    "            loss = criterion(outputs.logits, labels)\n",
    "            loss.backward()\n",
    "            optimizer.step()\n",
    "\n",
    "            running_loss += loss.item()\n",
    "\n",
    "        # Validation\n",
    "        model.eval()\n",
    "        all_preds = []\n",
    "        all_labels = []\n",
    "        with torch.no_grad():\n",
    "            for images, labels in val_loader:\n",
    "                images, labels = images.to(device), labels.to(device)\n",
    "                outputs = model(images)\n",
    "                _, preds = torch.max(outputs.logits, 1)\n",
    "                all_preds.extend(preds.cpu().numpy())\n",
    "                all_labels.extend(labels.cpu().numpy())\n",
    "\n",
    "        accuracy = accuracy_score(all_labels, all_preds)\n",
    "        trial.report(accuracy, epoch)\n",
    "\n",
    "        # Prune if not promising\n",
    "        if trial.should_prune():\n",
    "            raise TrialPruned()\n",
    "\n",
    "    end_time = time.time()\n",
    "    print(f\"⏱️ Trial {trial.number} completed in {(end_time - start_time)/60:.2f} minutes with accuracy {accuracy:.4f}\")\n",
    "\n",
    "    return accuracy\n"
   ],
   "id": "49921776ec3638c",
   "outputs": [],
   "execution_count": 21
  },
  {
   "metadata": {},
   "cell_type": "code",
   "source": [
    "study = optuna.create_study(direction='maximize')  # We want to maximize accuracy\n",
    "study.optimize(objective, n_trials=30)\n",
    "print(f\"Best hyperparameters: {study.best_params}\")"
   ],
   "id": "bacf1244d07b9f89",
   "outputs": [],
   "execution_count": null
  },
  {
   "metadata": {},
   "cell_type": "code",
   "outputs": [],
   "execution_count": null,
   "source": "",
   "id": "24effd26160fe12d"
  }
 ],
 "metadata": {
  "kernelspec": {
   "display_name": "Python 3",
   "language": "python",
   "name": "python3"
  },
  "language_info": {
   "codemirror_mode": {
    "name": "ipython",
    "version": 2
   },
   "file_extension": ".py",
   "mimetype": "text/x-python",
   "name": "python",
   "nbconvert_exporter": "python",
   "pygments_lexer": "ipython2",
   "version": "2.7.6"
  }
 },
 "nbformat": 4,
 "nbformat_minor": 5
}
