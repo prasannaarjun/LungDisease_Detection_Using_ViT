{
 "cells": [
  {
   "metadata": {
    "ExecuteTime": {
     "end_time": "2025-04-13T21:55:47.523164Z",
     "start_time": "2025-04-13T21:55:47.518859Z"
    }
   },
   "cell_type": "code",
   "source": [
    "\n",
    "import shutil"
   ],
   "id": "a2cc186a7bde28cf",
   "outputs": [],
   "execution_count": 7
  },
  {
   "metadata": {},
   "cell_type": "code",
   "outputs": [],
   "execution_count": null,
   "source": "",
   "id": "1364d3cbb73eaed7"
  },
  {
   "metadata": {
    "ExecuteTime": {
     "end_time": "2025-04-13T22:02:27.723817Z",
     "start_time": "2025-04-13T22:02:27.712968Z"
    }
   },
   "cell_type": "code",
   "source": [
    "from pathlib import Path\n",
    "\n",
    "def create_stage1_structure(dest_root):\n",
    "    dest_root = Path(dest_root)\n",
    "\n",
    "    splits = [\"train\", \"val\", \"test\"]\n",
    "    classes = [\"Pneumonia\", \"Corona Virus Disease\", \"Normal\", \"Tuberculosis\"]\n",
    "\n",
    "    for split in splits:\n",
    "        for cls in classes:\n",
    "            class_path = dest_root / split / cls\n",
    "            class_path.mkdir(parents=True, exist_ok=True)\n",
    "            print(f\"✅ Created: {class_path}\")\n",
    "\n",
    "\n",
    "\n",
    "# Example usage:\n",
    "create_stage1_structure(\"../Dataset/stage1\")\n"
   ],
   "id": "6df20c3ea29f5cc5",
   "outputs": [
    {
     "name": "stdout",
     "output_type": "stream",
     "text": [
      "✅ Created: ..\\Dataset\\stage1\\train\\Pneumonia\n",
      "✅ Created: ..\\Dataset\\stage1\\train\\Corona Virus Disease\n",
      "✅ Created: ..\\Dataset\\stage1\\train\\Normal\n",
      "✅ Created: ..\\Dataset\\stage1\\train\\Tuberculosis\n",
      "✅ Created: ..\\Dataset\\stage1\\val\\Pneumonia\n",
      "✅ Created: ..\\Dataset\\stage1\\val\\Corona Virus Disease\n",
      "✅ Created: ..\\Dataset\\stage1\\val\\Normal\n",
      "✅ Created: ..\\Dataset\\stage1\\val\\Tuberculosis\n",
      "✅ Created: ..\\Dataset\\stage1\\test\\Pneumonia\n",
      "✅ Created: ..\\Dataset\\stage1\\test\\Corona Virus Disease\n",
      "✅ Created: ..\\Dataset\\stage1\\test\\Normal\n",
      "✅ Created: ..\\Dataset\\stage1\\test\\Tuberculosis\n"
     ]
    }
   ],
   "execution_count": 14
  },
  {
   "metadata": {
    "collapsed": true,
    "ExecuteTime": {
     "end_time": "2025-04-13T22:05:36.425715Z",
     "start_time": "2025-04-13T22:05:36.418312Z"
    }
   },
   "cell_type": "code",
   "source": [
    "from pathlib import Path\n",
    "\n",
    "\n",
    "def create_stage1_dataset(src_root, dest_root):\n",
    "    pneumonia_classes = [\"Bacterial Pneumonia\", \"Viral Pneumonia\"]\n",
    "\n",
    "    src_root = Path(src_root)\n",
    "    dest_root = Path(dest_root)\n",
    "\n",
    "    for split in [\"train\", \"val\", \"test\"]:\n",
    "        split_src = src_root / split\n",
    "        split_dst = dest_root / split\n",
    "\n",
    "        for cls_dir in split_src.iterdir():\n",
    "            if not cls_dir.is_dir():\n",
    "                continue\n",
    "\n",
    "            cls_name = cls_dir.name\n",
    "            target_class = \"Pneumonia\" if cls_name in pneumonia_classes else cls_name\n",
    "\n",
    "            dst_cls_dir = split_dst / target_class\n",
    "            dst_cls_dir.mkdir(parents=True, exist_ok=True)\n",
    "\n",
    "            for img_path in cls_dir.iterdir():\n",
    "                if img_path.is_file():\n",
    "                    new_name = f\"{cls_name.replace(' ', '_')}_{img_path.name}\"\n",
    "                    shutil.copy(img_path, dst_cls_dir / new_name)\n",
    "\n",
    "            print(f\"✅ {cls_name} → {target_class} ({split})\")\n"
   ],
   "id": "initial_id",
   "outputs": [],
   "execution_count": 16
  },
  {
   "metadata": {
    "ExecuteTime": {
     "end_time": "2025-04-13T22:08:03.047246Z",
     "start_time": "2025-04-13T22:07:18.832239Z"
    }
   },
   "cell_type": "code",
   "source": [
    "create_stage1_dataset(\n",
    "    src_root=\"../Dataset\",              # Your original dataset root\n",
    "    dest_root=\"../Dataset/stage1\",  )# Output path for Stage 1 (coarse classifier)\n",
    "\n"
   ],
   "id": "ab4d6297411610c3",
   "outputs": [
    {
     "name": "stdout",
     "output_type": "stream",
     "text": [
      "✅ Bacterial Pneumonia → Pneumonia (train)\n",
      "✅ Corona Virus Disease → Corona Virus Disease (train)\n",
      "✅ Normal → Normal (train)\n",
      "✅ Tuberculosis → Tuberculosis (train)\n",
      "✅ Viral Pneumonia → Pneumonia (train)\n",
      "✅ Bacterial Pneumonia → Pneumonia (val)\n",
      "✅ Corona Virus Disease → Corona Virus Disease (val)\n",
      "✅ Normal → Normal (val)\n",
      "✅ Tuberculosis → Tuberculosis (val)\n",
      "✅ Viral Pneumonia → Pneumonia (val)\n",
      "✅ Bacterial Pneumonia → Pneumonia (test)\n",
      "✅ Corona Virus Disease → Corona Virus Disease (test)\n",
      "✅ Normal → Normal (test)\n",
      "✅ Tuberculosis → Tuberculosis (test)\n",
      "✅ Viral Pneumonia → Pneumonia (test)\n"
     ]
    }
   ],
   "execution_count": 18
  }
 ],
 "metadata": {
  "kernelspec": {
   "display_name": "Python 3",
   "language": "python",
   "name": "python3"
  },
  "language_info": {
   "codemirror_mode": {
    "name": "ipython",
    "version": 2
   },
   "file_extension": ".py",
   "mimetype": "text/x-python",
   "name": "python",
   "nbconvert_exporter": "python",
   "pygments_lexer": "ipython2",
   "version": "2.7.6"
  }
 },
 "nbformat": 4,
 "nbformat_minor": 5
}
